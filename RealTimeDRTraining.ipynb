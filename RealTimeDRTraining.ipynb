{
 "cells": [
  {
   "cell_type": "markdown",
   "metadata": {},
   "source": [
    "# REAL TIME DIGIT RECOGNITION FOR SINGLE DIGITS- Training"
   ]
  },
  {
   "cell_type": "code",
   "execution_count": 1,
   "metadata": {},
   "outputs": [
    {
     "name": "stderr",
     "output_type": "stream",
     "text": [
      "Using TensorFlow backend.\n"
     ]
    }
   ],
   "source": [
    "#Importing Libraries\n",
    "import tensorflow as tf\n",
    "import cv2\n",
    "import numpy as np\n",
    "import os\n",
    "from sklearn.model_selection import train_test_split\n",
    "import matplotlib.pyplot as plt\n",
    "from keras.preprocessing.image import ImageDataGenerator"
   ]
  },
  {
   "cell_type": "code",
   "execution_count": 2,
   "metadata": {},
   "outputs": [
    {
     "name": "stdout",
     "output_type": "stream",
     "text": [
      "10160\n",
      "10160\n"
     ]
    }
   ],
   "source": [
    "noOfClasses=10 # 0-9 digits\n",
    "imgs=[] #list to save images\n",
    "classes=[] #list for corresponding classes of images\n",
    "\n",
    "for i in range(0,noOfClasses):\n",
    "    imgList=os.listdir('Data/'+str(i))\n",
    "    for j in imgList:\n",
    "        currentImg=cv2.imread('Data/'+str(i)+'/'+str(j))\n",
    "        currentImg=cv2.resize(currentImg,(32,32))\n",
    "        imgs.append(currentImg)\n",
    "        classes.append(i)\n",
    "        \n",
    "print(len(imgs)) #Length of image list\n",
    "print(len(classes)) #Length of class list"
   ]
  },
  {
   "cell_type": "code",
   "execution_count": 3,
   "metadata": {},
   "outputs": [
    {
     "name": "stdout",
     "output_type": "stream",
     "text": [
      "Shape of Images list : (10160, 32, 32, 3) & Shape of classes list : (10160,)\n"
     ]
    }
   ],
   "source": [
    "# Converting to numpy array\n",
    "\n",
    "imgs=np.array(imgs)\n",
    "classes=np.array(classes)\n",
    "print(\"Shape of Images list : \"+str(imgs.shape)+\" & Shape of classes list : \"+str(classes.shape))"
   ]
  },
  {
   "cell_type": "markdown",
   "metadata": {},
   "source": [
    "## Now once we have all the data ready we need to split them into Training and Testing Data"
   ]
  },
  {
   "cell_type": "code",
   "execution_count": 4,
   "metadata": {},
   "outputs": [
    {
     "name": "stdout",
     "output_type": "stream",
     "text": [
      "Training Images Shape : (8128, 32, 32, 3)\n",
      "Testing Images Shape : (2032, 32, 32, 3)\n"
     ]
    }
   ],
   "source": [
    "train_imgs,test_imgs,train_labels,test_labels=train_test_split(imgs,classes,test_size=0.2)\n",
    "print(\"Training Images Shape : \"+str(train_imgs.shape))\n",
    "print(\"Testing Images Shape : \"+str(test_imgs.shape))"
   ]
  },
  {
   "cell_type": "markdown",
   "metadata": {},
   "source": [
    "## Now we need some validation data as well so lets split Train_images into training and validation data"
   ]
  },
  {
   "cell_type": "code",
   "execution_count": 5,
   "metadata": {},
   "outputs": [
    {
     "name": "stdout",
     "output_type": "stream",
     "text": [
      "Training Images Shape : (6502, 32, 32, 3)\n",
      "Validation Images Shape : (1626, 32, 32, 3)\n"
     ]
    }
   ],
   "source": [
    "train_imgs,val_imgs,train_labels,val_labels=train_test_split(train_imgs,train_labels,test_size=0.2)\n",
    "print(\"Training Images Shape : \"+str(train_imgs.shape))\n",
    "print(\"Validation Images Shape : \"+str(val_imgs.shape))"
   ]
  },
  {
   "cell_type": "code",
   "execution_count": 6,
   "metadata": {},
   "outputs": [
    {
     "name": "stdout",
     "output_type": "stream",
     "text": [
      "[647, 665, 655, 672, 642, 644, 639, 649, 668, 621]\n"
     ]
    }
   ],
   "source": [
    "# To find length of index values where numbers are is present \n",
    "# Lets save them in a list\n",
    "\n",
    "noOflabelSamples=[]\n",
    "for i in range(0,noOfClasses):\n",
    "    noOflabelSamples.append(len(np.where(train_labels==i)[0]))\n",
    "\n",
    "# Lets print them\n",
    "\n",
    "# for i in range(0,noOfClasses):\n",
    "#     print(\"Class \" + str(i) + \" : \" + str(noOflabelSamples[i]))\n",
    "\n",
    "print(noOflabelSamples)"
   ]
  },
  {
   "cell_type": "markdown",
   "metadata": {},
   "source": [
    "## Lets Plot our results"
   ]
  },
  {
   "cell_type": "code",
   "execution_count": 7,
   "metadata": {},
   "outputs": [
    {
     "data": {
      "image/png": "[encoded data removed]",
      "text/plain": [
       "<Figure size 1080x720 with 1 Axes>"
      ]
     },
     "metadata": {
      "needs_background": "light"
     },
     "output_type": "display_data"
    }
   ],
   "source": [
    "%matplotlib inline\n",
    "plt.figure(figsize=(15,10))\n",
    "plt.bar(range(0,noOfClasses),noOflabelSamples)\n",
    "plt.title(\"Number of Images in each class\")\n",
    "plt.xlabel(\"Class Number\")\n",
    "plt.ylabel(\"Number of Images\")\n",
    "plt.show()"
   ]
  },
  {
   "cell_type": "markdown",
   "metadata": {},
   "source": [
    "# Converting our images to grayscale and preprocess the input so all our images are properly visible to the network when training"
   ]
  },
  {
   "cell_type": "code",
   "execution_count": 8,
   "metadata": {},
   "outputs": [],
   "source": [
    "def preProcess(img):\n",
    "    img=cv2.cvtColor(img,cv2.COLOR_BGR2GRAY)\n",
    "    img=cv2.equalizeHist(img)\n",
    "    x,img=cv2.threshold(img, 127, 255, cv2.THRESH_BINARY)\n",
    "    img=img/255\n",
    "    return img"
   ]
  },
  {
   "cell_type": "code",
   "execution_count": 9,
   "metadata": {},
   "outputs": [],
   "source": [
    "# Now Preprocessing\n",
    "\n",
    "train_imgs= np.array(list(map(preProcess,train_imgs)))\n",
    "test_imgs= np.array(list(map(preProcess,test_imgs)))\n",
    "val_imgs= np.array(list(map(preProcess,val_imgs)))"
   ]
  },
  {
   "cell_type": "code",
   "execution_count": 10,
   "metadata": {},
   "outputs": [
    {
     "data": {
      "text/plain": [
       "<matplotlib.image.AxesImage at 0x1622d032a58>"
      ]
     },
     "execution_count": 10,
     "metadata": {},
     "output_type": "execute_result"
    },
    {
     "data": {
      "image/png": "[encoded data removed]",
      "text/plain": [
       "<Figure size 432x288 with 1 Axes>"
      ]
     },
     "metadata": {
      "needs_background": "light"
     },
     "output_type": "display_data"
    }
   ],
   "source": [
    "#To test if the images are properly preprocessed\n",
    "\n",
    "img=train_imgs[30]\n",
    "plt.imshow(img, cmap='gray', interpolation='none')\n",
    "\n",
    "# Display using OpenCv\n",
    "# cv2.imshow(\"Preprocessed\",img.astype('uint8') * 255)\n",
    "# cv2.waitKey(0)\n",
    "# cv2.destroyAllWindows()"
   ]
  },
  {
   "cell_type": "code",
   "execution_count": 11,
   "metadata": {},
   "outputs": [
    {
     "name": "stdout",
     "output_type": "stream",
     "text": [
      "Training Images Shape : (6502, 32, 32)\n",
      "Testing Images Shape : (2032, 32, 32)\n",
      "Validation Images Shape : (1626, 32, 32)\n"
     ]
    }
   ],
   "source": [
    "print(\"Training Images Shape : \"+str(train_imgs.shape))\n",
    "print(\"Testing Images Shape : \"+str(test_imgs.shape))\n",
    "print(\"Validation Images Shape : \"+str(val_imgs.shape))"
   ]
  },
  {
   "cell_type": "markdown",
   "metadata": {},
   "source": [
    "## For better Training we Augment the Images \n",
    "\n",
    "- To augment images we use ImageDataGenerator which requires rank four shape\n",
    "\n",
    "### So we have to reshape images"
   ]
  },
  {
   "cell_type": "code",
   "execution_count": 12,
   "metadata": {},
   "outputs": [],
   "source": [
    "train_imgs = train_imgs.reshape(train_imgs.shape[0],train_imgs.shape[1],train_imgs.shape[2],1)\n",
    "test_imgs = test_imgs.reshape(test_imgs.shape[0],test_imgs.shape[1],test_imgs.shape[2],1)\n",
    "val_imgs = val_imgs.reshape(val_imgs.shape[0],val_imgs.shape[1],val_imgs.shape[2],1)\n",
    "\n",
    "datagen = ImageDataGenerator(width_shift_range=0.1,\n",
    "                             height_shift_range=0.1,\n",
    "                             zoom_range=0.2,\n",
    "                             shear_range=0.1,\n",
    "                             rotation_range=10)\n",
    "datagen.fit(train_imgs)"
   ]
  },
  {
   "cell_type": "code",
   "execution_count": 13,
   "metadata": {},
   "outputs": [],
   "source": [
    "## Creating Convolutional Neural Network Model\n",
    "model = tf.keras.models.Sequential([\n",
    "            tf.keras.layers.Conv2D(60,(5,5),activation='relu',input_shape=(32,32,1)),\n",
    "            tf.keras.layers.Conv2D(60,(5,5),activation='relu'),\n",
    "            tf.keras.layers.MaxPooling2D(2,2),\n",
    "            tf.keras.layers.Conv2D(30,(3,3),activation='relu'),\n",
    "            tf.keras.layers.Conv2D(30,(3,3),activation='relu'),\n",
    "            tf.keras.layers.MaxPooling2D(2,2),\n",
    "            tf.keras.layers.Dropout(0.5),\n",
    "            tf.keras.layers.Flatten(),\n",
    "            tf.keras.layers.Dense(512,activation='relu'),\n",
    "            tf.keras.layers.Dropout(0.5),\n",
    "            tf.keras.layers.Dense(10,activation='softmax')])\n",
    "\n",
    "model.compile(optimizer='adam',loss='sparse_categorical_crossentropy',metrics=['acc'])"
   ]
  },
  {
   "cell_type": "code",
   "execution_count": 14,
   "metadata": {},
   "outputs": [
    {
     "name": "stdout",
     "output_type": "stream",
     "text": [
      "Model: \"sequential\"\n",
      "_________________________________________________________________\n",
      "Layer (type)                 Output Shape              Param #   \n",
      "=================================================================\n",
      "conv2d (Conv2D)              (None, 28, 28, 60)        1560      \n",
      "_________________________________________________________________\n",
      "conv2d_1 (Conv2D)            (None, 24, 24, 60)        90060     \n",
      "_________________________________________________________________\n",
      "max_pooling2d (MaxPooling2D) (None, 12, 12, 60)        0         \n",
      "_________________________________________________________________\n",
      "conv2d_2 (Conv2D)            (None, 10, 10, 30)        16230     \n",
      "_________________________________________________________________\n",
      "conv2d_3 (Conv2D)            (None, 8, 8, 30)          8130      \n",
      "_________________________________________________________________\n",
      "max_pooling2d_1 (MaxPooling2 (None, 4, 4, 30)          0         \n",
      "_________________________________________________________________\n",
      "dropout (Dropout)            (None, 4, 4, 30)          0         \n",
      "_________________________________________________________________\n",
      "flatten (Flatten)            (None, 480)               0         \n",
      "_________________________________________________________________\n",
      "dense (Dense)                (None, 512)               246272    \n",
      "_________________________________________________________________\n",
      "dropout_1 (Dropout)          (None, 512)               0         \n",
      "_________________________________________________________________\n",
      "dense_1 (Dense)              (None, 10)                5130      \n",
      "=================================================================\n",
      "Total params: 367,382\n",
      "Trainable params: 367,382\n",
      "Non-trainable params: 0\n",
      "_________________________________________________________________\n"
     ]
    }
   ],
   "source": [
    "# Model Summary\n",
    "\n",
    "model.summary()"
   ]
  },
  {
   "cell_type": "markdown",
   "metadata": {},
   "source": [
    "## Time to train the model"
   ]
  },
  {
   "cell_type": "code",
   "execution_count": 17,
   "metadata": {},
   "outputs": [
    {
     "name": "stdout",
     "output_type": "stream",
     "text": [
      "WARNING:tensorflow:sample_weight modes were coerced from\n",
      "  ...\n",
      "    to  \n",
      "  ['...']\n",
      "Train for 131 steps, validate on 1626 samples\n",
      "Epoch 1/10\n",
      "131/131 [==============================] - 61s 469ms/step - loss: 0.3046 - acc: 0.9011 - val_loss: 0.0664 - val_acc: 0.9785\n",
      "Epoch 2/10\n",
      "131/131 [==============================] - 64s 488ms/step - loss: 0.2480 - acc: 0.9225 - val_loss: 0.0519 - val_acc: 0.9846\n",
      "Epoch 3/10\n",
      "131/131 [==============================] - 68s 517ms/step - loss: 0.2282 - acc: 0.9268 - val_loss: 0.0487 - val_acc: 0.9865\n",
      "Epoch 4/10\n",
      "131/131 [==============================] - 51s 386ms/step - loss: 0.1697 - acc: 0.9439 - val_loss: 0.0380 - val_acc: 0.9865\n",
      "Epoch 5/10\n",
      "131/131 [==============================] - 50s 381ms/step - loss: 0.1487 - acc: 0.9536 - val_loss: 0.0322 - val_acc: 0.9895\n",
      "Epoch 6/10\n",
      "131/131 [==============================] - 49s 375ms/step - loss: 0.1472 - acc: 0.9548 - val_loss: 0.0242 - val_acc: 0.9932\n",
      "Epoch 7/10\n",
      "131/131 [==============================] - 49s 378ms/step - loss: 0.1295 - acc: 0.9588 - val_loss: 0.0323 - val_acc: 0.9889\n",
      "Epoch 8/10\n",
      "131/131 [==============================] - 51s 386ms/step - loss: 0.1229 - acc: 0.9594 - val_loss: 0.0273 - val_acc: 0.9926\n",
      "Epoch 9/10\n",
      "131/131 [==============================] - 51s 390ms/step - loss: 0.1149 - acc: 0.9629 - val_loss: 0.0325 - val_acc: 0.9877\n",
      "Epoch 10/10\n",
      "131/131 [==============================] - 51s 386ms/step - loss: 0.0961 - acc: 0.9695 - val_loss: 0.0244 - val_acc: 0.9920\n"
     ]
    }
   ],
   "source": [
    "history = model.fit(datagen.flow(train_imgs,train_labels,batch_size=50),\n",
    "                                 epochs=10,\n",
    "                                 validation_data=(val_imgs,val_labels))"
   ]
  },
  {
   "cell_type": "markdown",
   "metadata": {},
   "source": [
    "## Lets Plot the results"
   ]
  },
  {
   "cell_type": "code",
   "execution_count": 18,
   "metadata": {},
   "outputs": [
    {
     "data": {
      "image/png": "[encoded data removed]",
      "text/plain": [
       "<Figure size 432x288 with 1 Axes>"
      ]
     },
     "metadata": {
      "needs_background": "light"
     },
     "output_type": "display_data"
    },
    {
     "data": {
      "image/png": "[encoded data removed]",
      "text/plain": [
       "<Figure size 432x288 with 1 Axes>"
      ]
     },
     "metadata": {
      "needs_background": "light"
     },
     "output_type": "display_data"
    }
   ],
   "source": [
    "plt.figure(1)\n",
    "plt.plot(history.history['loss'])\n",
    "plt.plot(history.history['val_loss'])\n",
    "plt.legend(['Training','Validation'])\n",
    "plt.title('Loss')\n",
    "plt.xlabel('epoch')\n",
    "plt.figure(2)\n",
    "plt.plot(history.history['acc'])\n",
    "plt.plot(history.history['val_acc'])\n",
    "plt.legend(['Training','Validation'])\n",
    "plt.title('Accuracy')\n",
    "plt.xlabel('epoch')\n",
    "plt.show()"
   ]
  },
  {
   "cell_type": "markdown",
   "metadata": {},
   "source": [
    "## Now lets evalute the Training"
   ]
  },
  {
   "cell_type": "code",
   "execution_count": 20,
   "metadata": {},
   "outputs": [
    {
     "name": "stdout",
     "output_type": "stream",
     "text": [
      "Test Score :  0.02635903046924756\n",
      "Test Accuracy :  0.992126\n"
     ]
    }
   ],
   "source": [
    "score = model.evaluate(test_imgs,test_labels,verbose=0)\n",
    "print('Test Score : ',score[0])\n",
    "print('Test Accuracy : ', score[1])"
   ]
  },
  {
   "cell_type": "markdown",
   "metadata": {},
   "source": [
    "## Save The  MODEL "
   ]
  },
  {
   "cell_type": "code",
   "execution_count": 22,
   "metadata": {},
   "outputs": [
    {
     "name": "stdout",
     "output_type": "stream",
     "text": [
      "WARNING:tensorflow:From C:\\Users\\My1\\AppData\\Roaming\\Python\\Python36\\site-packages\\tensorflow_core\\python\\ops\\resource_variable_ops.py:1786: calling BaseResourceVariable.__init__ (from tensorflow.python.ops.resource_variable_ops) with constraint is deprecated and will be removed in a future version.\n",
      "Instructions for updating:\n",
      "If using Keras pass *_constraint arguments to layers.\n",
      "INFO:tensorflow:Assets written to: trained_model\\assets\n"
     ]
    }
   ],
   "source": [
    "model.save('trained_model')"
   ]
  }
 ],
 "metadata": {
  "kernelspec": {
   "display_name": "Python 3",
   "language": "python",
   "name": "python3"
  },
  "language_info": {
   "codemirror_mode": {
    "name": "ipython",
    "version": 3
   },
   "file_extension": ".py",
   "mimetype": "text/x-python",
   "name": "python",
   "nbconvert_exporter": "python",
   "pygments_lexer": "ipython3",
   "version": "3.6.6"
  }
 },
 "nbformat": 4,
 "nbformat_minor": 2
}
